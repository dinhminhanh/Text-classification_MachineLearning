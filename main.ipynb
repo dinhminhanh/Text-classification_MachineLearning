{
 "cells": [
  {
   "cell_type": "markdown",
   "metadata": {},
   "source": [
    "# Phân loại văn tiếng Việt"
   ]
  },
  {
   "cell_type": "code",
   "execution_count": 1,
   "metadata": {},
   "outputs": [],
   "source": [
    "import os\n",
    "import json\n",
    "from pyvi import ViTokenizer\n",
    "from sklearn.feature_extraction.text import TfidfVectorizer\n",
    "from sklearn.decomposition import PCA\n",
    "from sklearn.model_selection import train_test_split\n",
    "from sklearn import metrics \n",
    "from sklearn.naive_bayes import GaussianNB\n",
    "import numpy as np\n"
   ]
  },
  {
   "cell_type": "code",
   "execution_count": 2,
   "metadata": {},
   "outputs": [],
   "source": [
    "def preprocess(data_path, stopword_path, dims):\n",
    "    data = []\n",
    "    target = []\n",
    "    target_names = []\n",
    "\n",
    "    # Duyệt qua từng file trong thư mục\n",
    "    for file_name in os.listdir(data_path):\n",
    "        if file_name.endswith(\".json\"):  # Chỉ xử lý file .json\n",
    "            # Đường dẫn file\n",
    "            file_path = os.path.join(data_path, file_name)\n",
    "            # Lấy nhãn từ tên file (bỏ phần .json)\n",
    "            category = os.path.splitext(file_name)[0]\n",
    "\n",
    "            # Thêm category vào danh sách nhãn nếu chưa có\n",
    "            if category not in target_names:\n",
    "                target_names.append(category)\n",
    "\n",
    "            # Đọc file JSON\n",
    "            with open(file_path, \"r\", encoding=\"utf-8\") as file:\n",
    "                json_data = json.load(file)\n",
    "                for item in json_data:\n",
    "                    content = item.get(\"content\", \"\").strip()\n",
    "                    if content.lower() == \"none\":  # Loại bỏ content = \"None\"\n",
    "                        continue\n",
    "                    # Ghép nội dung từ title và content\n",
    "                    text = (item.get(\"title\", \"\") + \" \" + item.get(\"content\", \"\")).strip()\n",
    "                    data.append(text)\n",
    "                    # Thêm chỉ số của category vào target\n",
    "                    target.append(target_names.index(category))\n",
    "\n",
    "    # Đọc danh sách từ dừng\n",
    "    with open(stopword_path, encoding=\"utf-8\") as f:\n",
    "        stopwords = f.readlines()\n",
    "    stopwords = [x.strip().replace(\" \", \"_\") for x in stopwords]\n",
    "\n",
    "    # Tách từ tiếng Việt\n",
    "    data = [ViTokenizer.tokenize(sample) for sample in data]\n",
    "\n",
    "    # Chuyển văn bản thành biểu diễn TF-IDF vector\n",
    "    tfidf_vectorizer = TfidfVectorizer(stop_words=stopwords)\n",
    "    data_preprocessed = tfidf_vectorizer.fit_transform(data)\n",
    "\n",
    "    # Chuyển dữ liệu TF-IDF thành ma trận dày\n",
    "    tfidf_mat = data_preprocessed.toarray()\n",
    "\n",
    "    # Áp dụng PCA để giảm chiều dữ liệu\n",
    "    pca = PCA(n_components=dims)\n",
    "    x_reduced = pca.fit_transform(tfidf_mat)\n",
    "\n",
    "    return x_reduced, np.array(target), target_names, tfidf_vectorizer, pca\n",
    "\n"
   ]
  },
  {
   "cell_type": "code",
   "execution_count": 8,
   "metadata": {},
   "outputs": [],
   "source": [
    "def train_model(classifier, X_data, y_data, target_names):\n",
    "    X_train, X_test, y_train, y_test = train_test_split(X_data, y_data, test_size=0.2, random_state=42, stratify=y_data)\n",
    "    classifier.fit(X_train, y_train)\n",
    "    \n",
    "    # Dự đoán trên tập train và test\n",
    "    train_predictions = classifier.predict(X_train)\n",
    "    test_predictions = classifier.predict(X_test)\n",
    "\n",
    "    # Đánh giá độ chính xác\n",
    "    train_accuracy = metrics.accuracy_score(y_train, train_predictions)\n",
    "    test_accuracy = metrics.accuracy_score(y_test, test_predictions)\n",
    "\n",
    "    print(f\"Train accuracy: {train_accuracy:.2f}\")\n",
    "    print(f\"Test accuracy: {test_accuracy:.2f}\")\n",
    "\n",
    "    print(\"\\nBáo cáo phân loại trên tập test:\")\n",
    "    print(metrics.classification_report(y_test, test_predictions, target_names=target_names))\n",
    "    \n",
    "    print(\"\\nBáo cáo phân loại trên tập train:\")\n",
    "    print(metrics.classification_report(y_train, train_predictions, target_names=target_names))\n"
   ]
  },
  {
   "cell_type": "code",
   "execution_count": 10,
   "metadata": {},
   "outputs": [],
   "source": [
    "# Thực hiện sử dụng model đã được train để infer 1 văn bản mới\n",
    "def predict_text(classifier, tfidf_vectorizer, pca, text):\n",
    "    # Tách từ\n",
    "    tokenized_text = ViTokenizer.tokenize(text)\n",
    "    print(\"Câu sau khi tách từ:\", tokenized_text)\n",
    "\n",
    "    # Chuyển văn bản thành vector TF-IDF\n",
    "    tfidf_vector = tfidf_vectorizer.transform([tokenized_text])\n",
    "    tfidf_mat = tfidf_vector.toarray()\n",
    "\n",
    "    # Giảm chiều dữ liệu bằng PCA\n",
    "    reduced_features = pca.transform(tfidf_mat)\n",
    "\n",
    "    # Dự đoán nhãn\n",
    "    prediction = classifier.predict(reduced_features)\n",
    "    return prediction"
   ]
  },
  {
   "cell_type": "code",
   "execution_count": 30,
   "metadata": {},
   "outputs": [],
   "source": [
    "\n",
    "# Đường dẫn tới dữ liệu\n",
    "data_path = \"json\"\n",
    "stopword_path = \"vietnamese-stopwords.txt\"\n",
    "dims = 2048"
   ]
  },
  {
   "cell_type": "code",
   "execution_count": null,
   "metadata": {},
   "outputs": [],
   "source": [
    "# Tiền xử lý dữ liệu và trả về vectorizer cùng PCA\n",
    "X_data, y_data, target_names, tfidf_vectorizer, pca = preprocess(data_path, stopword_path, dims)\n",
    "print(f\"Dữ liệu đã tiền xử lý: {X_data.shape}\")\n",
    "print(f\"Số nhãn: {len(target_names)}\")\n",
    "print(\"Danh sách nhãn và ID tương ứng:\")\n",
    "for idx, name in enumerate(target_names):\n",
    "    print(f\"ID: {idx}, Nhãn: {name}\")\n"
   ]
  },
  {
   "cell_type": "code",
   "execution_count": null,
   "metadata": {},
   "outputs": [],
   "source": [
    "# Tạo và huấn luyện mô hình Naive Bayes\n",
    "naive_bayes_classifier = GaussianNB()\n",
    "train_model(naive_bayes_classifier, X_data, y_data, target_names)\n",
    "\n",
    "# Văn bản cần dự đoán\n",
    "input_text = \"Ca sĩ Hiếu Thứ Hai ra MV mới\"\n",
    "\n",
    "# Dự đoán nhãn\n",
    "predicted_label = predict_text(naive_bayes_classifier, tfidf_vectorizer, pca, input_text)\n",
    "\n",
    "# Hiển thị nhãn tương ứng\n",
    "print(f\"Dự đoán nhãn: {target_names[predicted_label[0]]}\")"
   ]
  },
  {
   "cell_type": "code",
   "execution_count": null,
   "metadata": {},
   "outputs": [],
   "source": [
    "from sklearn.svm import SVC\n",
    "\n",
    "svm_classifier = SVC(kernel='linear')\n",
    "train_model(svm_classifier, X_data, y_data, target_names)\n",
    "# Văn bản cần dự đoán\n",
    "input_text = \"Cầu thủ Quang Hải đá bóng\"\n",
    "\n",
    "# Dự đoán nhãn\n",
    "predicted_label = predict_text(svm_classifier, tfidf_vectorizer, pca, input_text)\n",
    "\n",
    "# Hiển thị nhãn tương ứng\n",
    "print(f\"Dự đoán nhãn: {target_names[predicted_label[0]]}\")\n"
   ]
  },
  {
   "cell_type": "code",
   "execution_count": null,
   "metadata": {},
   "outputs": [],
   "source": [
    "from sklearn.linear_model import LogisticRegression\n",
    "\n",
    "# Khởi tạo Logistic Regression\n",
    "logistic_classifier = LogisticRegression(max_iter=1000, multi_class='multinomial', solver='lbfgs')\n",
    "\n",
    "# Huấn luyện và đánh giá\n",
    "train_model(logistic_classifier, X_data, y_data, target_names)\n",
    "\n",
    "# Văn bản cần dự đoán\n",
    "input_text = \"Bị can hưởng án tù 15 năm\"\n",
    "\n",
    "# Dự đoán nhãn\n",
    "predicted_label = predict_text(svm_classifier, tfidf_vectorizer, pca, input_text)\n",
    "\n",
    "# Hiển thị nhãn tương ứng\n",
    "print(f\"Dự đoán nhãn: {target_names[predicted_label[0]]}\")\n",
    "\n"
   ]
  },
  {
   "cell_type": "code",
   "execution_count": 10,
   "metadata": {},
   "outputs": [],
   "source": [
    "import matplotlib.pyplot as plt\n",
    "import seaborn as sns"
   ]
  },
  {
   "cell_type": "code",
   "execution_count": null,
   "metadata": {},
   "outputs": [],
   "source": [
    "sns.histplot(x=y_data)"
   ]
  }
 ],
 "metadata": {
  "kernelspec": {
   "display_name": "Python 3",
   "language": "python",
   "name": "python3"
  },
  "language_info": {
   "codemirror_mode": {
    "name": "ipython",
    "version": 3
   },
   "file_extension": ".py",
   "mimetype": "text/x-python",
   "name": "python",
   "nbconvert_exporter": "python",
   "pygments_lexer": "ipython3",
   "version": "3.13.1"
  }
 },
 "nbformat": 4,
 "nbformat_minor": 2
}
