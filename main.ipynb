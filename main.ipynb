{
 "cells": [
  {
   "cell_type": "code",
   "execution_count": 1,
   "metadata": {},
   "outputs": [],
   "source": [
    "import os\n",
    "import json\n",
    "from pyvi import ViTokenizer\n",
    "from sklearn.feature_extraction.text import TfidfVectorizer\n",
    "from sklearn.decomposition import PCA\n",
    "import numpy as np\n"
   ]
  },
  {
   "cell_type": "code",
   "execution_count": 2,
   "metadata": {},
   "outputs": [],
   "source": [
    "def preprocess(data_path, stopword_path, dims):\n",
    "    data = []\n",
    "    target = []\n",
    "    target_names = []\n",
    "\n",
    "    # Duyệt qua từng file trong thư mục\n",
    "    for file_name in os.listdir(data_path):\n",
    "        if file_name.endswith(\".json\"):  # Chỉ xử lý file .json\n",
    "            # Đường dẫn file\n",
    "            file_path = os.path.join(data_path, file_name)\n",
    "            # Lấy nhãn từ tên file (bỏ phần .json)\n",
    "            category = os.path.splitext(file_name)[0]\n",
    "\n",
    "            # Thêm category vào danh sách nhãn nếu chưa có\n",
    "            if category not in target_names:\n",
    "                target_names.append(category)\n",
    "\n",
    "           \n",
    "\n",
    "            # Đọc file JSON\n",
    "            with open(file_path, \"r\", encoding=\"utf-8\") as file:\n",
    "                json_data = json.load(file)\n",
    "                for item in json_data:\n",
    "                    content = item.get(\"content\", \"\").strip()\n",
    "                    if content.lower() == \"none\":  # Loại bỏ content = \"None\"\n",
    "                        continue\n",
    "                    # Ghép nội dung từ title và content\n",
    "                    text = (item.get(\"title\", \"\") + \" \" + item.get(\"content\", \"\")).strip()\n",
    "                    data.append(text)\n",
    "                    # Thêm chỉ số của category vào target\n",
    "                    target.append(target_names.index(category))\n",
    "                    \n",
    "    # Đọc danh sách từ dừng\n",
    "    with open(stopword_path, encoding=\"utf-8\") as f:\n",
    "        stopwords = f.readlines()\n",
    "    stopwords = [x.strip().replace(\" \", \"_\") for x in stopwords]\n",
    "\n",
    "    # Tách từ tiếng Việt\n",
    "    data = [ViTokenizer.tokenize(sample) for sample in data]\n",
    "\n",
    "    # Chuyển văn bản thành biểu diễn TF-IDF vector\n",
    "    tfidf_vector = TfidfVectorizer(stop_words=stopwords)\n",
    "    data_preprocessed = tfidf_vector.fit_transform(data)\n",
    "    \n",
    "    # Chuyển dữ liệu TF-IDF thành ma trận\n",
    "    tfidf_mat = data_preprocessed.toarray()\n",
    "\n",
    "    # Áp dụng PCA để giảm chiều dữ liệu\n",
    "    pca = PCA(n_components=dims)\n",
    "    x_reduced = pca.fit_transform(tfidf_mat)\n",
    "\n",
    "    return x_reduced, np.array(target), target_names\n",
    "\n"
   ]
  },
  {
   "cell_type": "code",
   "execution_count": 3,
   "metadata": {},
   "outputs": [],
   "source": [
    "from sklearn.model_selection import train_test_split\n",
    "from sklearn import metrics\n",
    "\n",
    "def train_model(classifier, X_data, y_data):\n",
    "    \n",
    "    X_train, X_test, y_train, y_test = train_test_split(X_data, y_data, test_size=0.2, random_state=42)\n",
    "    \n",
    "    classifier.fit(X_train, y_train)\n",
    "\n",
    "    # Dự đoán trên tập train và test\n",
    "    train_predictions = classifier.predict(X_train)\n",
    "    test_predictions = classifier.predict(X_test)\n",
    "\n",
    "    # Đánh giá độ chính xác\n",
    "    train_accuracy = metrics.accuracy_score(y_train, train_predictions)\n",
    "    test_accuracy = metrics.accuracy_score(y_test, test_predictions)\n",
    "\n",
    "    print(f\"Train accuracy: {train_accuracy:.2f}\")\n",
    "    print(f\"Test accuracy: {test_accuracy:.2f}\")\n",
    "    "
   ]
  },
  {
   "cell_type": "code",
   "execution_count": 6,
   "metadata": {},
   "outputs": [],
   "source": [
    "X_data, y_data, target_names = preprocess(data_path, stopword_path,dims)"
   ]
  },
  {
   "cell_type": "code",
   "execution_count": 11,
   "metadata": {},
   "outputs": [
    {
     "name": "stdout",
     "output_type": "stream",
     "text": [
      "Dữ liệu đã tiền xử lý: (7099, 1024)\n",
      "Số nhãn: 12\n",
      "Train accuracy: 0.81\n",
      "Test accuracy: 0.77\n"
     ]
    }
   ],
   "source": [
    "from sklearn.naive_bayes import MultinomialNB\n",
    "from sklearn.naive_bayes import GaussianNB\n",
    "\n",
    "# Đường dẫn tới dữ liệu\n",
    "data_path = \"json\"\n",
    "stopword_path = \"vietnamese-stopwords.txt\"\n",
    "dims = 1024\n",
    "# Tiền xử lý dữ liệu\n",
    "# X_data, y_data, target_names = preprocess(data_path, stopword_path,dims)\n",
    "print(f\"Dữ liệu đã tiền xử lý: {X_data.shape}\")\n",
    "print(f\"Số nhãn: {len(target_names)}\")\n",
    "\n",
    "# Tạo mô hình Naive Bayes\n",
    "# naive_bayes_classifier = MultinomialNB()\n",
    "naive_bayes_classifier = GaussianNB()\n",
    "\n",
    "# Huấn luyện mô hình\n",
    "train_model(naive_bayes_classifier, X_data, y_data)\n"
   ]
  },
  {
   "cell_type": "code",
   "execution_count": 16,
   "metadata": {},
   "outputs": [],
   "source": [
    "import matplotlib.pyplot as plt\n",
    "import seaborn as sns"
   ]
  },
  {
   "cell_type": "code",
   "execution_count": 17,
   "metadata": {},
   "outputs": [
    {
     "data": {
      "text/plain": [
       "<Axes: ylabel='Count'>"
      ]
     },
     "execution_count": 17,
     "metadata": {},
     "output_type": "execute_result"
    },
    {
     "data": {
      "image/png": "[encoded data removed]",
      "text/plain": [
       "<Figure size 640x480 with 1 Axes>"
      ]
     },
     "metadata": {},
     "output_type": "display_data"
    }
   ],
   "source": [
    "sns.histplot(x=y_data)"
   ]
  }
 ],
 "metadata": {
  "kernelspec": {
   "display_name": "Python 3",
   "language": "python",
   "name": "python3"
  },
  "language_info": {
   "codemirror_mode": {
    "name": "ipython",
    "version": 3
   },
   "file_extension": ".py",
   "mimetype": "text/x-python",
   "name": "python",
   "nbconvert_exporter": "python",
   "pygments_lexer": "ipython3",
   "version": "3.13.1"
  }
 },
 "nbformat": 4,
 "nbformat_minor": 2
}
